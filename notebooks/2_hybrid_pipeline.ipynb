{
 "cells": [
  {
   "cell_type": "markdown",
   "id": "c9f9d60a",
   "metadata": {},
   "source": [
    "# 2. Pipeline de Clasificación Híbrida\n",
    "Este notebook implementa el pipeline completo de clasificación, incluyendo:\n",
    "1. Preprocesamiento de texto biomédico\n",
    "2. Generación de embeddings\n",
    "3. Clasificación y evaluación"
   ]
  },
  {
   "cell_type": "code",
   "execution_count": null,
   "id": "974666bf",
   "metadata": {},
   "outputs": [],
   "source": [
    "# Importar librerías necesarias\n",
    "import pandas as pd\n",
    "import numpy as np\n",
    "from sklearn.model_selection import train_test_split\n",
    "import sys\n",
    "sys.path.append('..')\n",
    "\n",
    "# Importar componentes del proyecto\n",
    "from src.preprocessing.cleaner import TextCleaner\n",
    "from src.preprocessing.normalizer import SemanticNormalizer\n",
    "from src.features.embeddings import BiomedicalEmbeddings\n",
    "from src.models.classifier import BiomedicalClassifier\n",
    "from src.evaluation.metrics import ModelEvaluator</VSCode.Cell>\n",
    "\n",
    "<VSCode.Cell language=\"markdown\">\n",
    "## 1. Cargar y Preparar Datos"
   ]
  },
  {
   "cell_type": "code",
   "execution_count": null,
   "id": "ded07e1d",
   "metadata": {},
   "outputs": [],
   "source": [
    "# Cargar datos\n",
    "df = pd.read_csv('../data/raw/challenge_data-18-ago.csv')\n",
    "\n",
    "# Split en train/test\n",
    "X_train, X_test, y_train, y_test = train_test_split(\n",
    "    df[['title', 'abstract']],\n",
    "    df['group'],\n",
    "    test_size=0.2,\n",
    "    random_state=42,\n",
    "    stratify=df['group']\n",
    ")</VSCode.Cell>\n",
    "\n",
    "<VSCode.Cell language=\"markdown\">\n",
    "## 2. Preprocesamiento de Texto"
   ]
  },
  {
   "cell_type": "code",
   "execution_count": null,
   "id": "9bdc9ea2",
   "metadata": {},
   "outputs": [],
   "source": [
    "# Inicializar componentes\n",
    "classifier = BiomedicalClassifier()\n",
    "\n",
    "# Preprocesar textos de entrenamiento\n",
    "print(\"Preprocesando textos de entrenamiento...\")\n",
    "X_train_processed = classifier.preprocess_text(\n",
    "    X_train['title'].tolist() + X_train['abstract'].tolist()\n",
    ")\n",
    "\n",
    "# Mostrar ejemplo de preprocesamiento\n",
    "print(\"\\nEjemplo de preprocesamiento:\")\n",
    "idx = 0\n",
    "print(\"Original:\")\n",
    "print(f\"Título: {X_train['title'].iloc[idx]}\")\n",
    "print(f\"Abstract: {X_train['abstract'].iloc[idx]}\")\n",
    "print(\"\\nProcesado:\")\n",
    "print(f\"Texto: {X_train_processed[idx]}\")</VSCode.Cell>\n",
    "\n",
    "<VSCode.Cell language=\"markdown\">\n",
    "## 3. Generación de Embeddings"
   ]
  },
  {
   "cell_type": "code",
   "execution_count": null,
   "id": "73f11ab5",
   "metadata": {},
   "outputs": [],
   "source": [
    "# Generar embeddings\n",
    "print(\"Generando embeddings...\")\n",
    "X_train_features = classifier.get_features(\n",
    "    X_train['title'].tolist(),\n",
    "    X_train['abstract'].tolist()\n",
    ")\n",
    "\n",
    "print(f\"\\nDimensiones de los features: {X_train_features.shape}\")</VSCode.Cell>\n",
    "\n",
    "<VSCode.Cell language=\"markdown\">\n",
    "## 4. Entrenamiento del Modelo"
   ]
  },
  {
   "cell_type": "code",
   "execution_count": null,
   "id": "6ef39009",
   "metadata": {},
   "outputs": [],
   "source": [
    "# Entrenar modelo\n",
    "print(\"Entrenando modelo...\")\n",
    "classifier.fit(\n",
    "    X_train['title'].tolist(),\n",
    "    X_train['abstract'].tolist(),\n",
    "    y_train.tolist()\n",
    ")</VSCode.Cell>\n",
    "\n",
    "<VSCode.Cell language=\"markdown\">\n",
    "## 5. Evaluación"
   ]
  },
  {
   "cell_type": "code",
   "execution_count": null,
   "id": "04c271a5",
   "metadata": {},
   "outputs": [],
   "source": [
    "# Inicializar evaluador\n",
    "evaluator = ModelEvaluator(classifier)\n",
    "\n",
    "# Realizar predicciones en test\n",
    "predictions, probas = classifier.predict(\n",
    "    X_test['title'].tolist(),\n",
    "    X_test['abstract'].tolist()\n",
    ")\n",
    "\n",
    "# Calcular métricas\n",
    "metrics = evaluator.calculate_metrics(y_test.tolist(), predictions, probas)\n",
    "print(\"\\nMétricas de evaluación:\")\n",
    "for metric, value in metrics.items():\n",
    "    print(f\"{metric}: {value:.4f}\")\n",
    "\n",
    "# Visualizar matriz de confusión\n",
    "evaluator.plot_confusion_matrix(y_test.tolist(), predictions)\n",
    "\n",
    "# Analizar errores\n",
    "errors = evaluator.analyze_errors(\n",
    "    y_test.tolist(),\n",
    "    predictions,\n",
    "    X_test['title'].tolist()\n",
    ")\n",
    "\n",
    "print(\"\\nEjemplos de errores:\")\n",
    "for i, error in enumerate(errors[:5]):\n",
    "    print(f\"\\nError {i+1}:\")\n",
    "    print(f\"Texto: {error['text']}\")\n",
    "    print(f\"Etiquetas reales: {error['true_labels']}\")\n",
    "    print(f\"Predicciones: {error['predicted_labels']}\")</VSCode.Cell>\n",
    "\n",
    "<VSCode.Cell language=\"markdown\">\n",
    "## 6. Explicabilidad"
   ]
  }
 ],
 "metadata": {
  "language_info": {
   "name": "python"
  }
 },
 "nbformat": 4,
 "nbformat_minor": 5
}
